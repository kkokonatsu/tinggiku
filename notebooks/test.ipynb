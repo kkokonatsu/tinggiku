{
 "cells": [
  {
   "cell_type": "code",
   "execution_count": 1,
   "id": "7fef594a",
   "metadata": {},
   "outputs": [
    {
     "name": "stderr",
     "output_type": "stream",
     "text": [
      "/home/anugerahsurya/tinggikuenv/lib/python3.10/site-packages/tqdm/auto.py:21: TqdmWarning: IProgress not found. Please update jupyter and ipywidgets. See https://ipywidgets.readthedocs.io/en/stable/user_install.html\n",
      "  from .autonotebook import tqdm as notebook_tqdm\n"
     ]
    }
   ],
   "source": [
    "import os\n",
    "import pandas as pd\n",
    "import torch\n",
    "from FeatureExtraction import deteksiPerson, kedalamanCitra, ekstrakMetadataCitra, ekstraksiFitur"
   ]
  },
  {
   "cell_type": "code",
   "execution_count": 2,
   "id": "6a568b38",
   "metadata": {},
   "outputs": [],
   "source": [
    "def simpanData(dataObjek, kedalamanObjek, metadata, focalLengthpx, tinggiobj, image_path):\n",
    "    # Buat DataFrame\n",
    "    df = pd.DataFrame(dataObjek)\n",
    "    df['ID'] = image_path\n",
    "    # Pisahkan center jadi center_x, center_y\n",
    "    df[['center_x', 'center_y']] = pd.DataFrame(df['center'].tolist(), index=df.index)\n",
    "    df.drop(columns='center', inplace=True)\n",
    "\n",
    "    # Tambahkan kolom kedalamanObjek\n",
    "    df['kedalamanObjek'] = kedalamanObjek\n",
    "\n",
    "    # Ambil nilai float dari tensor focalLengthpx\n",
    "    fl_value = focalLengthpx.item()\n",
    "\n",
    "    # Tambahkan kolom fl_px dengan nilai focal length yang sama untuk semua baris\n",
    "    df['fl_px'] = fl_value\n",
    "\n",
    "    # Tambahkan kolom metadata dengan fallback ke None jika tidak ditemukan\n",
    "    df['ImageWidth'] = metadata.get('ImageWidth', metadata.get('ExifImageWidth'))\n",
    "    df['ImageLength'] = metadata.get('ImageLength', metadata.get('ExifImageHeight'))\n",
    "    df['FocalLength'] = metadata.get('FocalLength', None)\n",
    "    df['FocalLengthIn35mmFilm'] = metadata.get('FocalLengthIn35mmFilm', None)\n",
    "    df['ApertureValue'] = metadata.get('ApertureValue', None)\n",
    "    df['BrightnessValue'] = metadata.get('BrightnessValue', None)\n",
    "    df['TinggiAktual'] = tinggiobj\n",
    "    return df\n"
   ]
  },
  {
   "cell_type": "code",
   "execution_count": 3,
   "id": "33cfeda5",
   "metadata": {},
   "outputs": [],
   "source": [
    "def run(img_path, tinggiobj, visualize=True):\n",
    "    dataObjek, kedalamanObjek, metadata, focalLengthpx = ekstraksiFitur(img_path, visualize)\n",
    "\n",
    "    df = simpanData(dataObjek, kedalamanObjek, metadata, focalLengthpx, tinggiobj, img_path)\n",
    "    database = '../data/DatabaseTinggi.csv'\n",
    "\n",
    "    if not os.path.exists(database):\n",
    "        # File belum ada, simpan baru dengan header\n",
    "        df.to_csv(database, index=False)\n",
    "    else:\n",
    "        # File sudah ada, append tanpa header\n",
    "        df.to_csv(database, mode='a', index=False, header=False)"
   ]
  },
  {
   "cell_type": "code",
   "execution_count": 4,
   "id": "198cbb8d",
   "metadata": {},
   "outputs": [],
   "source": [
    "#run(\"../data/Gas/bimo2_168.HEIC\",168)"
   ]
  },
  {
   "cell_type": "code",
   "execution_count": 5,
   "id": "cabfaf48",
   "metadata": {},
   "outputs": [],
   "source": [
    "#run(\"../data/Gas/bimo3_180.heic\",180)"
   ]
  },
  {
   "cell_type": "code",
   "execution_count": 6,
   "id": "b4b44d0c",
   "metadata": {},
   "outputs": [],
   "source": [
    "#run(\"../data/Gas/bimo4_171.jpg\",171)"
   ]
  },
  {
   "cell_type": "code",
   "execution_count": 7,
   "id": "bc5a80a7",
   "metadata": {},
   "outputs": [],
   "source": [
    "#run(\"../data/Gas/bimo5_158.JPG\",158)"
   ]
  },
  {
   "cell_type": "code",
   "execution_count": 8,
   "id": "e79b2a27",
   "metadata": {},
   "outputs": [],
   "source": [
    "#run(\"../data/Gas/bimo6_165.heic\",165)"
   ]
  },
  {
   "cell_type": "code",
   "execution_count": 9,
   "id": "bb5ec481",
   "metadata": {},
   "outputs": [],
   "source": [
    "#run(\"../data/Gas/bimo7_163.JPG\",163)"
   ]
  },
  {
   "cell_type": "code",
   "execution_count": 10,
   "id": "908016e5",
   "metadata": {},
   "outputs": [],
   "source": [
    "# run(\"../data/Gas/bimo8_176.HEIC\",176)"
   ]
  },
  {
   "cell_type": "code",
   "execution_count": 11,
   "id": "75b8c326",
   "metadata": {},
   "outputs": [],
   "source": [
    "# run(\"../data/Gas/bimo9_176.HEIC\",176)"
   ]
  },
  {
   "cell_type": "code",
   "execution_count": 12,
   "id": "b3970024",
   "metadata": {},
   "outputs": [],
   "source": [
    "# run(\"../data/Gas/bimo10_178.jpg\",178)"
   ]
  },
  {
   "cell_type": "code",
   "execution_count": 13,
   "id": "3ae89fb1",
   "metadata": {},
   "outputs": [],
   "source": [
    "#run(\"../data/Gas/bimo11_172.jpg\",172)"
   ]
  },
  {
   "cell_type": "code",
   "execution_count": 14,
   "id": "b80c2362",
   "metadata": {},
   "outputs": [],
   "source": [
    "# run(\"../data/Gas/bimo12_178.jpg\",178) file besar"
   ]
  },
  {
   "cell_type": "code",
   "execution_count": 15,
   "id": "fc75f3c2",
   "metadata": {},
   "outputs": [],
   "source": [
    "# run(\"../data/Gas/bimo16_170.jpg\",170) file besar"
   ]
  },
  {
   "cell_type": "code",
   "execution_count": 16,
   "id": "d463e8e7",
   "metadata": {},
   "outputs": [],
   "source": [
    "# run(\"../data/Gas/bimo17_165.jpg\",165) file besar"
   ]
  },
  {
   "cell_type": "code",
   "execution_count": 17,
   "id": "6383bbaf",
   "metadata": {},
   "outputs": [],
   "source": [
    "# run(\"../data/Gas/bimo18_173.jpg\",173) # ga terbaca"
   ]
  },
  {
   "cell_type": "code",
   "execution_count": 18,
   "id": "40d9acdf",
   "metadata": {},
   "outputs": [],
   "source": [
    "# run(\"../data/Gas/bimo21_180.HEIC\",180)"
   ]
  },
  {
   "cell_type": "code",
   "execution_count": 19,
   "id": "dca14752",
   "metadata": {},
   "outputs": [],
   "source": [
    "# run(\"../data/Gas/bimo22_165.jpg\",165) Ga Terbaca"
   ]
  },
  {
   "cell_type": "code",
   "execution_count": 20,
   "id": "b1641d1a",
   "metadata": {},
   "outputs": [],
   "source": [
    "# run(\"../data/Gas/bimo23_168.jpg\",168)"
   ]
  },
  {
   "cell_type": "code",
   "execution_count": 21,
   "id": "83f95885",
   "metadata": {},
   "outputs": [],
   "source": [
    "# run(\"../data/Gas/bimo24_180.heic\",180)"
   ]
  },
  {
   "cell_type": "code",
   "execution_count": 22,
   "id": "5d096815",
   "metadata": {},
   "outputs": [],
   "source": [
    "# run(\"../data/Gas/bimo25_167.jpg\",167)"
   ]
  },
  {
   "cell_type": "code",
   "execution_count": 23,
   "id": "bc90cf84",
   "metadata": {},
   "outputs": [],
   "source": [
    "# run(\"../data/Gas/bimo25_180.HEIC\",180)"
   ]
  },
  {
   "cell_type": "code",
   "execution_count": 24,
   "id": "1809d0de",
   "metadata": {},
   "outputs": [],
   "source": [
    "# run(\"../data/r_161.jpg\",161)"
   ]
  },
  {
   "cell_type": "code",
   "execution_count": 25,
   "id": "11bb1c8d",
   "metadata": {},
   "outputs": [],
   "source": [
    "# run(\"../data/r2_161.HEIC\",161)"
   ]
  },
  {
   "cell_type": "code",
   "execution_count": 26,
   "id": "018dc770",
   "metadata": {},
   "outputs": [],
   "source": [
    "# run(\"../data/r3_161.jpg\",161)"
   ]
  },
  {
   "cell_type": "code",
   "execution_count": 27,
   "id": "d4333123",
   "metadata": {},
   "outputs": [],
   "source": [
    "# run(\"../data/s1_1765.jpg\",176.5)"
   ]
  },
  {
   "cell_type": "code",
   "execution_count": 28,
   "id": "ada0e123",
   "metadata": {},
   "outputs": [],
   "source": [
    "# run(\"../data/s2_1765.HEIC\",176.5)"
   ]
  },
  {
   "cell_type": "code",
   "execution_count": null,
   "id": "948114c5",
   "metadata": {},
   "outputs": [
    {
     "name": "stderr",
     "output_type": "stream",
     "text": [
      "/home/anugerahsurya/tinggikuenv/lib/python3.10/site-packages/huggingface_hub/file_download.py:943: FutureWarning: `resume_download` is deprecated and will be removed in version 1.0.0. Downloads always resume when possible. If you want to force a new download, use `force_download=True`.\n",
      "  warnings.warn(\n"
     ]
    },
    {
     "name": "stdout",
     "output_type": "stream",
     "text": [
      "Device yang digunakan adalah :  cuda\n"
     ]
    }
   ],
   "source": [
    "# run(\"../data/s3_1765.jpg\",176.5)"
   ]
  }
 ],
 "metadata": {
  "kernelspec": {
   "display_name": "tinggikuenv",
   "language": "python",
   "name": "python3"
  },
  "language_info": {
   "codemirror_mode": {
    "name": "ipython",
    "version": 3
   },
   "file_extension": ".py",
   "mimetype": "text/x-python",
   "name": "python",
   "nbconvert_exporter": "python",
   "pygments_lexer": "ipython3",
   "version": "3.10.12"
  }
 },
 "nbformat": 4,
 "nbformat_minor": 5
}
