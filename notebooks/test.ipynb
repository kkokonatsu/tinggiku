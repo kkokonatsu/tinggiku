{
 "cells": [
  {
   "cell_type": "code",
   "execution_count": 1,
   "id": "de742321",
   "metadata": {},
   "outputs": [],
   "source": [
    "img_path = 'data/sampel.jpg'"
   ]
  },
  {
   "cell_type": "code",
   "execution_count": 2,
   "id": "7fef594a",
   "metadata": {},
   "outputs": [
    {
     "name": "stderr",
     "output_type": "stream",
     "text": [
      "/home/anugerahsurya/tinggikuenv/lib/python3.10/site-packages/tqdm/auto.py:21: TqdmWarning: IProgress not found. Please update jupyter and ipywidgets. See https://ipywidgets.readthedocs.io/en/stable/user_install.html\n",
      "  from .autonotebook import tqdm as notebook_tqdm\n"
     ]
    }
   ],
   "source": [
    "from FeatureExtraction import deteksiPerson, kedalamanCitra, ekstrakMetadataCitra, ekstraksiFitur"
   ]
  },
  {
   "cell_type": "code",
   "execution_count": null,
   "id": "0338c7cf",
   "metadata": {},
   "outputs": [
    {
     "ename": "NameError",
     "evalue": "name 'pipeline' is not defined",
     "output_type": "error",
     "traceback": [
      "\u001b[0;31m---------------------------------------------------------------------------\u001b[0m",
      "\u001b[0;31mNameError\u001b[0m                                 Traceback (most recent call last)",
      "Cell \u001b[0;32mIn[3], line 2\u001b[0m\n\u001b[1;32m      1\u001b[0m \u001b[38;5;66;03m# Load depth estimation pipeline sekali di luar fungsi untuk efisiensi\u001b[39;00m\n\u001b[0;32m----> 2\u001b[0m depth_estimator \u001b[38;5;241m=\u001b[39m \u001b[43mpipeline\u001b[49m(task\u001b[38;5;241m=\u001b[39m\u001b[38;5;124m\"\u001b[39m\u001b[38;5;124mdepth-estimation\u001b[39m\u001b[38;5;124m\"\u001b[39m, model\u001b[38;5;241m=\u001b[39m\u001b[38;5;124m\"\u001b[39m\u001b[38;5;124mIntel/zoedepth-nyu-kitti\u001b[39m\u001b[38;5;124m\"\u001b[39m)\n\u001b[1;32m      3\u001b[0m dataObjek, kedalamanObjek, metadata \u001b[38;5;241m=\u001b[39m ekstraksiFitur(img_path, depth_estimator)\n",
      "\u001b[0;31mNameError\u001b[0m: name 'pipeline' is not defined"
     ]
    }
   ],
   "source": [
    "from transformers import pipeline\n",
    "# Load depth estimation pipeline sekali di luar fungsi untuk efisiensi\n",
    "depth_estimator = pipeline(task=\"depth-estimation\", model=\"Intel/zoedepth-nyu-kitti\")\n",
    "dataObjek, kedalamanObjek, metadata = ekstraksiFitur(img_path, depth_estimator)"
   ]
  }
 ],
 "metadata": {
  "kernelspec": {
   "display_name": "tinggikuenv",
   "language": "python",
   "name": "python3"
  },
  "language_info": {
   "codemirror_mode": {
    "name": "ipython",
    "version": 3
   },
   "file_extension": ".py",
   "mimetype": "text/x-python",
   "name": "python",
   "nbconvert_exporter": "python",
   "pygments_lexer": "ipython3",
   "version": "3.10.12"
  }
 },
 "nbformat": 4,
 "nbformat_minor": 5
}
