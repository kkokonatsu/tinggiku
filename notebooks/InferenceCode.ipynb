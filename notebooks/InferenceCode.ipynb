{
 "cells": [
  {
   "cell_type": "markdown",
   "id": "297f27b7",
   "metadata": {},
   "source": [
    "## 01. Import Library"
   ]
  },
  {
   "cell_type": "code",
   "execution_count": 6,
   "id": "f0f92d3c",
   "metadata": {},
   "outputs": [],
   "source": [
    "import os\n",
    "import pandas as pd\n",
    "import torch\n",
    "from FeatureExtraction import ekstraksiFitur, inferenceCode"
   ]
  },
  {
   "cell_type": "markdown",
   "id": "355dd5d0",
   "metadata": {},
   "source": [
    "## 02. Main Program"
   ]
  },
  {
   "cell_type": "code",
   "execution_count": null,
   "id": "72e43766",
   "metadata": {},
   "outputs": [],
   "source": [
    "img_path = 'gambaruser.jpg'\n",
    "visualize = False # True hasilnya diunduh, jadi diset False aja\n",
    "dataObjek, kedalamanObjek, metadata, focalLengthpx = ekstraksiFitur(img_path, visualize)\n",
    "prediksi = inferenceCode(\n",
    "    dataObjek[0][\"TinggiBB\"],\n",
    "    kedalamanObjek,\n",
    "    focalLengthpx,\n",
    "    **{k: metadata[k] for k in [\"ApertureValue\", \"BrightnessValue\"] if k in metadata}\n",
    ")\n"
   ]
  }
 ],
 "metadata": {
  "kernelspec": {
   "display_name": "env",
   "language": "python",
   "name": "python3"
  },
  "language_info": {
   "codemirror_mode": {
    "name": "ipython",
    "version": 3
   },
   "file_extension": ".py",
   "mimetype": "text/x-python",
   "name": "python",
   "nbconvert_exporter": "python",
   "pygments_lexer": "ipython3",
   "version": "3.12.7"
  }
 },
 "nbformat": 4,
 "nbformat_minor": 5
}
