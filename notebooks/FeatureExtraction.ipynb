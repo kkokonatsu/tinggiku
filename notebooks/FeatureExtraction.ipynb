{
 "cells": [
  {
   "cell_type": "markdown",
   "id": "dfdfa0a6",
   "metadata": {},
   "source": [
    "## 1. Import Library"
   ]
  },
  {
   "cell_type": "code",
   "execution_count": 4,
   "id": "0db03539",
   "metadata": {},
   "outputs": [
    {
     "name": "stderr",
     "output_type": "stream",
     "text": [
      "/mnt/d/Kuliah/04. Laskar AI/Capstone LAI25/.venv/lib/python3.10/site-packages/tqdm/auto.py:21: TqdmWarning: IProgress not found. Please update jupyter and ipywidgets. See https://ipywidgets.readthedocs.io/en/stable/user_install.html\n",
      "  from .autonotebook import tqdm as notebook_tqdm\n"
     ]
    }
   ],
   "source": [
    "import pandas as pd\n",
    "import numpy as np\n",
    "import os\n",
    "\n",
    "from transformers import YolosImageProcessor, YolosForObjectDetection, pipeline\n",
    "from PIL import Image, ImageDraw, ImageFont\n",
    "import torch\n",
    "\n",
    "from PIL import Image\n",
    "from PIL.ExifTags import TAGS, GPSTAGS\n",
    "import pyheif"
   ]
  },
  {
   "cell_type": "markdown",
   "id": "fdc909e1",
   "metadata": {},
   "source": [
    "## 2. Pendefinisian Fungsi "
   ]
  },
  {
   "cell_type": "markdown",
   "id": "bdd9cece",
   "metadata": {},
   "source": [
    "### 2.1 YOLO : Fitur Panjang Pixel dan Titik Tengah Objek"
   ]
  },
  {
   "cell_type": "code",
   "execution_count": null,
   "id": "607e85f6",
   "metadata": {},
   "outputs": [],
   "source": [
    "def deteksiPerson(image_path, threshold=0.9):\n",
    "    # Load image\n",
    "    image = Image.open(image_path)\n",
    "\n",
    "    # Load model dan processor\n",
    "    model = YolosForObjectDetection.from_pretrained('hustvl/yolos-tiny')\n",
    "    processor = YolosImageProcessor.from_pretrained(\"hustvl/yolos-tiny\")\n",
    "\n",
    "    # Preprocess image\n",
    "    inputs = processor(images=image, return_tensors=\"pt\")\n",
    "    outputs = model(**inputs)\n",
    "\n",
    "    # Post-process\n",
    "    target_sizes = torch.tensor([image.size[::-1]])\n",
    "    results = processor.post_process_object_detection(outputs, threshold=threshold, target_sizes=target_sizes)[0]\n",
    "\n",
    "    # Inisialisasi hasil\n",
    "    person_data = []\n",
    "\n",
    "    for score, label, box in zip(results[\"scores\"], results[\"labels\"], results[\"boxes\"]):\n",
    "        if label.item() == 1:  # Label ID 1 = person (COCO)\n",
    "            box = [round(coord, 2) for coord in box.tolist()]\n",
    "            x_min, y_min, x_max, y_max = box\n",
    "\n",
    "            width = x_max - x_min\n",
    "            height = y_max - y_min\n",
    "            center_x = (x_min + x_max) / 2\n",
    "            center_y = (y_min + y_max) / 2\n",
    "\n",
    "            person_data.append({\n",
    "                \"center\": (center_x, center_y),\n",
    "                \"width\": width,\n",
    "                \"height\": height\n",
    "            })\n",
    "\n",
    "    return person_data\n"
   ]
  },
  {
   "cell_type": "markdown",
   "id": "f5c08b7a",
   "metadata": {},
   "source": [
    "### 2.2 DepthAnythingV2 : Fitur Kedalaman Absolut Citra pada Titik tertentu"
   ]
  },
  {
   "cell_type": "code",
   "execution_count": null,
   "id": "a9a84835",
   "metadata": {},
   "outputs": [],
   "source": [
    "# Load depth estimation pipeline sekali di luar fungsi untuk efisiensi\n",
    "depth_estimator = pipeline(task=\"depth-estimation\", model=\"Intel/zoedepth-nyu-kitti\")\n",
    "\n",
    "def kedalamanCitra(image: Image.Image, point: tuple) -> float:\n",
    "    \"\"\"\n",
    "    Mengembalikan nilai kedalaman pada titik tertentu dari citra menggunakan ZoeDepth.\n",
    "    \n",
    "    Args:\n",
    "        image (PIL.Image): Citra input.\n",
    "        point (tuple): Titik (x, y) pada citra asli.\n",
    "        \n",
    "    Returns:\n",
    "        float: Nilai kedalaman pada titik tersebut, atau None jika titik di luar jangkauan.\n",
    "    \"\"\"\n",
    "    x_orig, y_orig = point\n",
    "\n",
    "    # Dapatkan ukuran citra asli\n",
    "    orig_width, orig_height = image.size\n",
    "\n",
    "    # Validasi titik input\n",
    "    if x_orig >= orig_width or y_orig >= orig_height or x_orig < 0 or y_orig < 0:\n",
    "        print(\"Titik di luar jangkauan gambar asli.\")\n",
    "        return None\n",
    "\n",
    "    # Inference depth map\n",
    "    outputs = depth_estimator(image)\n",
    "    depth_image = outputs['depth']\n",
    "    depth_array = np.array(depth_image)\n",
    "\n",
    "    # Ukuran depth map\n",
    "    depth_width, depth_height = depth_image.size\n",
    "\n",
    "    # Konversi titik ke skala depth map\n",
    "    x_depth = int(x_orig * depth_width / orig_width)\n",
    "    y_depth = int(y_orig * depth_height / orig_height)\n",
    "\n",
    "    # Validasi titik pada depth map\n",
    "    if x_depth >= depth_width or y_depth >= depth_height:\n",
    "        print(\"Titik di luar jangkauan depth map.\")\n",
    "        return None\n",
    "\n",
    "    # Ambil nilai kedalaman\n",
    "    depth_value = float(depth_array[y_depth, x_depth])\n",
    "    return depth_value\n"
   ]
  },
  {
   "cell_type": "markdown",
   "id": "df1bfed8",
   "metadata": {},
   "source": [
    "### 2.3 Exif : Fitur Metadata Citra"
   ]
  },
  {
   "cell_type": "code",
   "execution_count": null,
   "id": "16c2b74e",
   "metadata": {},
   "outputs": [],
   "source": [
    "def ekstrakMetadataCitra(image_path):\n",
    "    try:\n",
    "        ext = os.path.splitext(image_path)[1].lower()\n",
    "        \n",
    "        if ext == \".heic\":\n",
    "            heif_file = pyheif.read(image_path)\n",
    "            metadata = {}\n",
    "\n",
    "            # Cek apakah ada metadata\n",
    "            if heif_file.metadata:\n",
    "                for item in heif_file.metadata:\n",
    "                    metadata[item['type']] = item['data']\n",
    "                return metadata\n",
    "            else:\n",
    "                return {\"Warning\": \"Tidak ada metadata ditemukan dalam file HEIC.\"}\n",
    "        \n",
    "        else:\n",
    "            image = Image.open(image_path)\n",
    "            exif_data = image._getexif()\n",
    "\n",
    "            if not exif_data:\n",
    "                return {\"Warning\": \"Tidak ada data EXIF ditemukan.\"}\n",
    "\n",
    "            metadata = {}\n",
    "            for tag_id, value in exif_data.items():\n",
    "                tag = TAGS.get(tag_id, tag_id)\n",
    "                if tag == \"GPSInfo\":\n",
    "                    gps_data = {}\n",
    "                    for t in value:\n",
    "                        sub_tag = GPSTAGS.get(t, t)\n",
    "                        gps_data[sub_tag] = value[t]\n",
    "                    metadata[\"GPSInfo\"] = gps_data\n",
    "                else:\n",
    "                    metadata[tag] = value\n",
    "\n",
    "            return metadata\n",
    "\n",
    "    except Exception as e:\n",
    "        return {\"Error\": str(e)}\n"
   ]
  },
  {
   "cell_type": "markdown",
   "id": "1690471d",
   "metadata": {},
   "source": [
    "### 2.4 Pendefinisian Fungsi Convert HEIC to JPG"
   ]
  },
  {
   "cell_type": "markdown",
   "id": "a7051717",
   "metadata": {},
   "source": [
    "## 3. Main Program"
   ]
  },
  {
   "cell_type": "code",
   "execution_count": null,
   "id": "81bdc972",
   "metadata": {},
   "outputs": [],
   "source": [
    "def ektraksiFitur(img_path):\n",
    "    dataObjek = deteksiPerson(img_path)\n",
    "    kedalamanObjek = kedalamanCitra(img_path, dataObjek['center'])\n",
    "    metadata = ekstrakMetadataCitra(img_path)\n",
    "    return dataObjek, kedalamanObjek, metadata\n",
    "\n",
    "img_path = '../Dataset/gambar.jpg'\n"
   ]
  }
 ],
 "metadata": {
  "kernelspec": {
   "display_name": ".venv",
   "language": "python",
   "name": "python3"
  },
  "language_info": {
   "codemirror_mode": {
    "name": "ipython",
    "version": 3
   },
   "file_extension": ".py",
   "mimetype": "text/x-python",
   "name": "python",
   "nbconvert_exporter": "python",
   "pygments_lexer": "ipython3",
   "version": "3.10.12"
  }
 },
 "nbformat": 4,
 "nbformat_minor": 5
}
